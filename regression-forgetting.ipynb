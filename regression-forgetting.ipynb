{
 "cells": [
  {
   "cell_type": "markdown",
   "metadata": {},
   "source": [
    "In any regression or classification problem where observations have a time element, old patterns can become stale. For this reason, I'm often asking myself -- how do I upweight my most recent observations? In this post I explain how to do this.\n",
    "\n",
    "All the code in this tutorial is available as a [jupyter notebook](https://github.com/jackcbaker/blog-notebooks/blob/main/regression-forgetting.ipynb) on my [github](https://github.com/jackcbaker/).\n",
    "\n",
    "## Step 1: Fetch the data\n",
    "\n",
    "For this post I'll be using price data from the [S&P500 available via Kaggle's](https://www.kaggle.com/camnugent/sandp500) great dataset library. This dataset is released under the [creative commons 0 license](https://creativecommons.org/publicdomain/zero/1.0/).\n",
    "\n",
    "A common problem in financial investments is to ensure you have a _balanced portfolio_. If your portfolio is unbalanced it means that if one stock starts to perform poorly, all of them do. This means any portfolio risks can have a massive effect on value. \n",
    "\n",
    "The ideal scenario is that if any stock started to decrease, this would be _balanced_ by an increase in another one: a balanced portfolio.\n",
    "\n",
    "So we can just calculate the correlation coefficient between all the stocks in our portfolio and be done right? Not quite. These relationships tend to change through time, which is something we need to account for.\n",
    "\n",
    "In this post we'll use a regression model where recent observations are given more weight to model the relationship between two stocks. This ensures when deciding how balanced the stocks are we are taking into account that the relationship is likely to change over time.\n",
    "\n",
    "The tutorial can be applied to any regression or classification problem where you suspect observations are likely to 'get stale' or where relationships may change over time.\n",
    "\n",
    "For this tutorial we're going to compare the closing share price of American Express (AXP) to Apple's (AAPL). First let's load the dataset after downloading it from Kaggle..."
   ]
  },
  {
   "cell_type": "code",
   "execution_count": 3,
   "metadata": {},
   "outputs": [
    {
     "data": {
      "image/png": "[encoded data removed]",
      "text/plain": [
       "<Figure size 432x288 with 1 Axes>"
      ]
     },
     "metadata": {
      "needs_background": "light"
     },
     "output_type": "display_data"
    }
   ],
   "source": [
    "import pandas as pd\n",
    "# for plotting\n",
    "import seaborn as sns\n",
    "# We'll need this later...\n",
    "from sklearn.linear_model import LinearRegression\n",
    "\n",
    "# Load in the full dataset rather than individual stocks\n",
    "snp_df = pd.read_csv(\"data/all_stocks_5yr.csv\")\n",
    "# Subset to just Nike and Apple stocks\n",
    "snp_df = snp_df.loc[snp_df['Name'].isin(['AXP', 'AAPL'])]\n",
    "# Just take the columns we need\n",
    "snp_df = snp_df[['date', 'close', 'Name']]\n",
    "# Set dates to be datetime objects\n",
    "snp_df['date'] = pd.to_datetime(snp_df['date'])\n",
    "# Plot the data\n",
    "sns.lineplot(data=snp_df, x='date', y='close', hue='Name')\n",
    "# Reshape the data to wide format\n",
    "snp_df = snp_df.pivot(index='date', columns='Name', values='close').reset_index()"
   ]
  },
  {
   "cell_type": "markdown",
   "metadata": {},
   "source": [
    "We can see from the plot above that initially there is quite a strong relationship between Apple and American Express prices. This is weakened when the American Express price starts to fall. But after this the relationship appears to get stronger again. This suggests a model that accounts for the fact that relationships change through time might be better. It also suggests that most of the time these stocks are imbalanced: they tend to move together."
   ]
  },
  {
   "cell_type": "markdown",
   "metadata": {},
   "source": [
    "## Step 2: Adding weights\n",
    "\n",
    "Now we need to decide how to weight the observations. There are lots of options here, which is a bit confusing.\n",
    "\n",
    "I tend to use the same weights as used in [exponential smoothing models](https://otexts.com/fpp3/ses.html). Why? Exponential smoothing is a popular, simple forecasting method that has been around for over 60 years! It's tried and tested, and has not gone away.\n",
    "\n",
    "Let's set $T$ to be the time of the most recent observation, $t$ to be the time of the observation we're interested in, and $\\gamma$ to be a hyperparameter we pick that's between 0 and 1. Then I set my weights $w$ to be\n",
    "\n",
    "\\begin{equation}\n",
    "w = \\gamma^{[T-t]}.\n",
    "\\end{equation}\n",
    "\n",
    "What does this mean? Suppose we set $\\gamma = 0.95$. Then if my observation is made at the most recent time point, its weight will be 1. If it's made at the second most recent time point, its weight will be 0.95. If it's made at the 10th most recent time point, its weight will be $\\gamma^10 = 0.95^10 \\approx 0.6$. Essentially our weight smoothly decreases to nothing as the observation gets older and older.\n",
    "\n",
    "An unfortunate side effect to this is we've added a hyperparameter to tune. I often just quickly do this by eye looking at the data, but you can also tune this in the normal way using cross-validation or AIC/BIC. For this tutorial, I'll just set it to 0.8.\n",
    "\n",
    "Let's add weights to our data now:"
   ]
  },
  {
   "cell_type": "code",
   "execution_count": 49,
   "metadata": {},
   "outputs": [
    {
     "data": {
      "text/html": [
       "<div>\n",
       "<style scoped>\n",
       "    .dataframe tbody tr th:only-of-type {\n",
       "        vertical-align: middle;\n",
       "    }\n",
       "\n",
       "    .dataframe tbody tr th {\n",
       "        vertical-align: top;\n",
       "    }\n",
       "\n",
       "    .dataframe thead th {\n",
       "        text-align: right;\n",
       "    }\n",
       "</style>\n",
       "<table border=\"1\" class=\"dataframe\">\n",
       "  <thead>\n",
       "    <tr style=\"text-align: right;\">\n",
       "      <th>Name</th>\n",
       "      <th>date</th>\n",
       "      <th>AAPL</th>\n",
       "      <th>AXP</th>\n",
       "      <th>weight</th>\n",
       "    </tr>\n",
       "  </thead>\n",
       "  <tbody>\n",
       "    <tr>\n",
       "      <th>0</th>\n",
       "      <td>2013-02-08</td>\n",
       "      <td>67.8542</td>\n",
       "      <td>61.80</td>\n",
       "      <td>1.377927e-177</td>\n",
       "    </tr>\n",
       "    <tr>\n",
       "      <th>1</th>\n",
       "      <td>2013-02-11</td>\n",
       "      <td>68.5614</td>\n",
       "      <td>61.98</td>\n",
       "      <td>2.691264e-177</td>\n",
       "    </tr>\n",
       "    <tr>\n",
       "      <th>2</th>\n",
       "      <td>2013-02-12</td>\n",
       "      <td>66.8428</td>\n",
       "      <td>62.20</td>\n",
       "      <td>3.364080e-177</td>\n",
       "    </tr>\n",
       "    <tr>\n",
       "      <th>3</th>\n",
       "      <td>2013-02-13</td>\n",
       "      <td>66.7156</td>\n",
       "      <td>62.10</td>\n",
       "      <td>4.205100e-177</td>\n",
       "    </tr>\n",
       "    <tr>\n",
       "      <th>4</th>\n",
       "      <td>2013-02-14</td>\n",
       "      <td>66.6556</td>\n",
       "      <td>62.34</td>\n",
       "      <td>5.256375e-177</td>\n",
       "    </tr>\n",
       "    <tr>\n",
       "      <th>...</th>\n",
       "      <td>...</td>\n",
       "      <td>...</td>\n",
       "      <td>...</td>\n",
       "      <td>...</td>\n",
       "    </tr>\n",
       "    <tr>\n",
       "      <th>1254</th>\n",
       "      <td>2018-02-01</td>\n",
       "      <td>167.7800</td>\n",
       "      <td>100.00</td>\n",
       "      <td>2.621440e-01</td>\n",
       "    </tr>\n",
       "    <tr>\n",
       "      <th>1255</th>\n",
       "      <td>2018-02-02</td>\n",
       "      <td>160.5000</td>\n",
       "      <td>96.68</td>\n",
       "      <td>3.276800e-01</td>\n",
       "    </tr>\n",
       "    <tr>\n",
       "      <th>1256</th>\n",
       "      <td>2018-02-05</td>\n",
       "      <td>156.4900</td>\n",
       "      <td>92.01</td>\n",
       "      <td>6.400000e-01</td>\n",
       "    </tr>\n",
       "    <tr>\n",
       "      <th>1257</th>\n",
       "      <td>2018-02-06</td>\n",
       "      <td>163.0300</td>\n",
       "      <td>94.18</td>\n",
       "      <td>8.000000e-01</td>\n",
       "    </tr>\n",
       "    <tr>\n",
       "      <th>1258</th>\n",
       "      <td>2018-02-07</td>\n",
       "      <td>159.5400</td>\n",
       "      <td>93.61</td>\n",
       "      <td>1.000000e+00</td>\n",
       "    </tr>\n",
       "  </tbody>\n",
       "</table>\n",
       "<p>1259 rows × 4 columns</p>\n",
       "</div>"
      ],
      "text/plain": [
       "Name       date      AAPL     AXP         weight\n",
       "0    2013-02-08   67.8542   61.80  1.377927e-177\n",
       "1    2013-02-11   68.5614   61.98  2.691264e-177\n",
       "2    2013-02-12   66.8428   62.20  3.364080e-177\n",
       "3    2013-02-13   66.7156   62.10  4.205100e-177\n",
       "4    2013-02-14   66.6556   62.34  5.256375e-177\n",
       "...         ...       ...     ...            ...\n",
       "1254 2018-02-01  167.7800  100.00   2.621440e-01\n",
       "1255 2018-02-02  160.5000   96.68   3.276800e-01\n",
       "1256 2018-02-05  156.4900   92.01   6.400000e-01\n",
       "1257 2018-02-06  163.0300   94.18   8.000000e-01\n",
       "1258 2018-02-07  159.5400   93.61   1.000000e+00\n",
       "\n",
       "[1259 rows x 4 columns]"
      ]
     },
     "execution_count": 49,
     "metadata": {},
     "output_type": "execute_result"
    }
   ],
   "source": [
    "# Set hyperparam\n",
    "gamma = 0.8\n",
    "# Check both stocks go up to the same date\n",
    "most_recent_date = snp_df['date'].max()\n",
    "days_before_recent_date = (most_recent_date - snp_df['date']).dt.days\n",
    "snp_df['weight'] = gamma ** days_before_recent_date.values\n",
    "snp_df"
   ]
  },
  {
   "cell_type": "markdown",
   "metadata": {},
   "source": [
    "## Step 3: Fit your model\n",
    "\n",
    "You might think that fitting our model will become a challenge now we've added weights. It's actually dead easy.\n",
    "\n",
    "Most regression and classification algorithms allow you to provide a dataset weight: for tree based methods (sklearn random forest, xgboost, lightgbm), you just set the `sample_weight` in the `fit` function; for linear regression R's `lm` function has a `weights` argument, sklearn's `LinearRegression` has a `sample_weight` argument in the `fit` function.\n",
    "\n",
    "If your algorithm does not allow you to set a weight, you can borrow from the class imbalance techniques and [oversample/undersample](https://machinelearningmastery.com/random-oversampling-and-undersampling-for-imbalanced-classification/) your observations based on your weights.\n",
    "\n",
    "Let's fit our model using sklearn's linear regression:"
   ]
  },
  {
   "cell_type": "code",
   "execution_count": 55,
   "metadata": {},
   "outputs": [
    {
     "name": "stdout",
     "output_type": "stream",
     "text": [
      "R^2 score for the weighted model is 0.740848229773393\n",
      "Linear coefficient of relationship of Apple to American Express is 0.4810444526330664\n"
     ]
    }
   ],
   "source": [
    "weighted_model = LinearRegression()\n",
    "weighted_results = weighted_model.fit(\n",
    "    X=snp_df[['AAPL']],\n",
    "    y=snp_df['AXP'], \n",
    "    sample_weight=snp_df['weight']\n",
    ")\n",
    "# Return the R^2 score for our model\n",
    "r2_weighted = weighted_results.score(\n",
    "    X=snp_df[['AAPL']],\n",
    "    y=snp_df['AXP'], \n",
    "    sample_weight=snp_df['weight']\n",
    ")\n",
    "print(f\"R^2 score for the weighted model is {r2_weighted}\")\n",
    "\n",
    "print(f\"Linear coefficient of relationship of Apple to American Express is {weighted_model.coef_[0]}\")"
   ]
  },
  {
   "cell_type": "markdown",
   "metadata": {},
   "source": [
    "Let's compare this to an unweighted model:"
   ]
  },
  {
   "cell_type": "code",
   "execution_count": 56,
   "metadata": {},
   "outputs": [
    {
     "name": "stdout",
     "output_type": "stream",
     "text": [
      "R^2 score for the unweighted model is 0.1161401914047755\n",
      "Linear coefficient of relationship of Apple to American Express is 0.12149913600503894\n"
     ]
    }
   ],
   "source": [
    "unweighted_model = LinearRegression()\n",
    "unweighted_results = unweighted_model.fit(\n",
    "    X=snp_df[['AAPL']],\n",
    "    y=snp_df['AXP']\n",
    ")\n",
    "# Return the R^2 score for our model\n",
    "r2_unweighted = unweighted_results.score(\n",
    "    X=snp_df[['AAPL']],\n",
    "    y=snp_df['AXP']\n",
    ")\n",
    "print(f\"R^2 score for the unweighted model is {r2_unweighted}\")\n",
    "\n",
    "print(f\"Linear coefficient of relationship of Apple to American Express is {unweighted_model.coef_[0]}\")"
   ]
  },
  {
   "cell_type": "markdown",
   "metadata": {},
   "source": [
    "In this case we've improved our in-sample fit significantly by using the weighted model. The coefficient is larger for the weighted model. This suggests that while previously, these stocks have not been that related, recently the stocks have become less balanced. This makes sense from what we saw when we plotted the two timeseries. This would be an increasing risk for our portfolio."
   ]
  }
 ],
 "metadata": {
  "kernelspec": {
   "display_name": "Python 3.8.5 64-bit ('snippets': pipenv)",
   "language": "python",
   "name": "python38564bitsnippetspipenve4aca6a61914431c8d4ea00da796c344"
  },
  "language_info": {
   "codemirror_mode": {
    "name": "ipython",
    "version": 3
   },
   "file_extension": ".py",
   "mimetype": "text/x-python",
   "name": "python",
   "nbconvert_exporter": "python",
   "pygments_lexer": "ipython3",
   "version": "3.8.5"
  }
 },
 "nbformat": 4,
 "nbformat_minor": 4
}
